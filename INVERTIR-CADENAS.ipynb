{
 "cells": [
  {
   "cell_type": "markdown",
   "metadata": {},
   "source": [
    "## **Reto**\n",
    "\n",
    "**Reto #6**\n",
    " * INVIRTIENDO CADENAS\n",
    " * Fecha publicación enunciado: 07/02/22\n",
    " * Fecha publicación resolución: 14/02/22\n",
    " * Dificultad: FÁCIL\n",
    " *\n",
    " * **Enunciado:** Crea un programa que **invierta el orden de una cadena de texto** sin usar **funciones propias del lenguaje** que lo hagan de forma automática.\n",
    " * - Si le pasamos **\"Hola mundo\"** nos retornaría **\"odnum aloH\"**\n",
    " *\n",
    " * **Información adicional:**\n",
    " * - Usa el canal de nuestro discord (https://mouredev.com/discord) \"🔁reto-semanal\" para preguntas, dudas o prestar ayuda a la acomunidad.\n",
    " * - Puedes hacer un Fork del repo y una Pull Request al repo original para que veamos tu solución aportada.\n",
    " * - Revisaré el ejercicio en directo desde Twitch el lunes siguiente al de su publicación.\n",
    " * - Subiré una posible solución al ejercicio el lunes siguiente al de su publicación.\n",
    " *"
   ]
  },
  {
   "cell_type": "markdown",
   "metadata": {},
   "source": [
    "### **Cadenas de pruebas**"
   ]
  },
  {
   "cell_type": "code",
   "execution_count": 9,
   "metadata": {},
   "outputs": [],
   "source": [
    "cadena_prueba = \"Hola mundo\"\n",
    "\n",
    "cadena_2 = \"Esto me ayuda a mi logica de programacion\""
   ]
  },
  {
   "cell_type": "markdown",
   "metadata": {},
   "source": [
    "## **Funcion que nos permite invertir un string.**"
   ]
  },
  {
   "cell_type": "code",
   "execution_count": 34,
   "metadata": {},
   "outputs": [],
   "source": [
    "def reverse_string(cadena:str = \"Cadena\") -> str:\n",
    "    \"\"\"This Function return a reverse strin.\n",
    "    \n",
    "    ### Args:\n",
    "        cadena (str): it's a string.\n",
    "        \n",
    "    ### Exemples:\n",
    "        >>> reverse_string('Hola mundo')\n",
    "        odnum aloH\n",
    "    \"\"\"\n",
    "    return print(f\"{cadena:^10} -> {cadena[::-1]:^10}\\n\")"
   ]
  },
  {
   "cell_type": "markdown",
   "metadata": {},
   "source": [
    "### **Cramos un `Entry Point`, y ejecutamos nuestra funcion**"
   ]
  },
  {
   "cell_type": "code",
   "execution_count": 36,
   "metadata": {},
   "outputs": [],
   "source": [
    "if __name__ == \"__main__\":\n",
    "    reverse_string(cadena_prueba)\n",
    "    reverse_string(cadena_2)\n",
    "    reverse_string()"
   ]
  }
 ],
 "metadata": {
  "kernelspec": {
   "display_name": "Python 3.10.5 64-bit",
   "language": "python",
   "name": "python3"
  },
  "language_info": {
   "codemirror_mode": {
    "name": "ipython",
    "version": 3
   },
   "file_extension": ".py",
   "mimetype": "text/x-python",
   "name": "python",
   "nbconvert_exporter": "python",
   "pygments_lexer": "ipython3",
   "version": "3.10.5"
  },
  "orig_nbformat": 4,
  "vscode": {
   "interpreter": {
    "hash": "e7370f93d1d0cde622a1f8e1c04877d8463912d04d973331ad4851f04de6915a"
   }
  }
 },
 "nbformat": 4,
 "nbformat_minor": 2
}
